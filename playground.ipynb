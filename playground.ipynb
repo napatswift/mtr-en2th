{
  "nbformat": 4,
  "nbformat_minor": 0,
  "metadata": {
    "colab": {
      "provenance": [],
      "authorship_tag": "ABX9TyOaabI8cTwytxNXRQthDh5x",
      "include_colab_link": true
    },
    "kernelspec": {
      "name": "python3",
      "display_name": "Python 3"
    },
    "language_info": {
      "name": "python"
    }
  },
  "cells": [
    {
      "cell_type": "markdown",
      "metadata": {
        "id": "view-in-github",
        "colab_type": "text"
      },
      "source": [
        "<a href=\"https://colab.research.google.com/github/napatswift/mtr-en2th/blob/main/playground.ipynb\" target=\"_parent\"><img src=\"https://colab.research.google.com/assets/colab-badge.svg\" alt=\"Open In Colab\"/></a>"
      ]
    },
    {
      "cell_type": "code",
      "source": [
        "!pip install sentencepiece"
      ],
      "metadata": {
        "colab": {
          "base_uri": "https://localhost:8080/"
        },
        "id": "P4ftRf3TbxJp",
        "outputId": "126229ab-ee86-405e-f19e-35947e4f81ac"
      },
      "execution_count": 1,
      "outputs": [
        {
          "output_type": "stream",
          "name": "stdout",
          "text": [
            "Looking in indexes: https://pypi.org/simple, https://us-python.pkg.dev/colab-wheels/public/simple/\n",
            "Collecting sentencepiece\n",
            "  Downloading sentencepiece-0.1.97-cp38-cp38-manylinux_2_17_x86_64.manylinux2014_x86_64.whl (1.3 MB)\n",
            "\u001b[2K     \u001b[90m━━━━━━━━━━━━━━━━━━━━━━━━━━━━━━━━━━━━━━━━\u001b[0m \u001b[32m1.3/1.3 MB\u001b[0m \u001b[31m11.2 MB/s\u001b[0m eta \u001b[36m0:00:00\u001b[0m\n",
            "\u001b[?25hInstalling collected packages: sentencepiece\n",
            "Successfully installed sentencepiece-0.1.97\n"
          ]
        }
      ]
    },
    {
      "cell_type": "code",
      "source": [
        "# configuration\n",
        "\n",
        "train_sentence_piece = False"
      ],
      "metadata": {
        "id": "f6UIktQ7cTLE"
      },
      "execution_count": 2,
      "outputs": []
    },
    {
      "cell_type": "code",
      "source": [
        "import pandas as pd\n",
        "import sentencepiece as spm # tokenizer"
      ],
      "metadata": {
        "id": "QxGUWcnKLudH"
      },
      "execution_count": 3,
      "outputs": []
    },
    {
      "cell_type": "markdown",
      "source": [
        "ใช้ colab authentication api เพื่อจะดึงข้อมูลจากชีต"
      ],
      "metadata": {
        "id": "vqxqUbzMdLdK"
      }
    },
    {
      "cell_type": "code",
      "source": [
        "from google.colab import auth\n",
        "auth.authenticate_user()"
      ],
      "metadata": {
        "id": "Ylnp0--Fau4z"
      },
      "execution_count": 4,
      "outputs": []
    },
    {
      "cell_type": "code",
      "execution_count": 5,
      "metadata": {
        "id": "PsrAOK14Zi0o"
      },
      "outputs": [],
      "source": [
        "import gspread\n",
        "from google.auth import default\n",
        "\n",
        "creds, _ = default()\n",
        "gc = gspread.authorize(creds)"
      ]
    },
    {
      "cell_type": "code",
      "source": [
        "spread_sheet = gc.open_by_key('1wd-mlGq_XETPD6szP-Q9XJ9xl8SVOMhmakpQLEkkSrg')\n",
        "sheet = spread_sheet.worksheets()[0] # เลือกแผ่นแรก\n",
        "dataset_df = pd.DataFrame(sheet.get_all_records())"
      ],
      "metadata": {
        "id": "j3YBFk8GZ3qg"
      },
      "execution_count": 6,
      "outputs": []
    },
    {
      "cell_type": "code",
      "source": [
        "if train_sentence_piece:\n",
        "  !touch lines.txt"
      ],
      "metadata": {
        "id": "lLTINU_pbZD2"
      },
      "execution_count": 7,
      "outputs": []
    },
    {
      "cell_type": "code",
      "source": [
        "# create dummy function to prevent polluting global namespace\n",
        "def _f():\n",
        "  sentence_lines = dataset_df[(dataset_df.Thai != '<song title>') &\n",
        "           (~(dataset_df.Thai == '')) &\n",
        "           (~(dataset_df.English == ''))][['Thai', 'English']].values\n",
        "  total_line_count = 0\n",
        "  with open('lines.txt', 'w') as f:\n",
        "    string_lines = [str(m) for l in sentence_lines for m in l]\n",
        "    for l in string_lines:\n",
        "      f.write(l)\n",
        "      f.write('\\n')\n",
        "      total_line_count += 1\n",
        "    print('total_line_count', total_line_count)\n",
        "\n",
        "if train_sentence_piece:\n",
        "  _f()"
      ],
      "metadata": {
        "id": "zFLFVMw8bL7o"
      },
      "execution_count": 8,
      "outputs": []
    },
    {
      "cell_type": "markdown",
      "source": [
        "create folder to store sentence piece model"
      ],
      "metadata": {
        "id": "0f3yjf51c2ks"
      }
    },
    {
      "cell_type": "code",
      "source": [
        "!if [[ ! -e model ]];\\\n",
        "  then mkdir model;\\\n",
        "fi"
      ],
      "metadata": {
        "id": "aw0QxiZIIr2M"
      },
      "execution_count": 9,
      "outputs": []
    },
    {
      "cell_type": "code",
      "source": [
        "if train_sentence_piece:\n",
        "  spm.SentencePieceTrainer.train(\n",
        "        input='lines.txt',\n",
        "        model_prefix='model/m',\n",
        "        vocab_size=4_800,\n",
        "        pad_id=3)\n",
        "  model = spm.SentencePieceProcessor(model_file='model/m.model')\n",
        "  print(*model.encode(\"\"\"ชีวิตของผมสั้นไป แต่ผมก็มีชีวิตที่ดีมาก ๆ นะ\n",
        "My life was kinda short, but I got so many blessings\n",
        "ผมมีความสุขมากที่คุณเคยเป็นคนรักของผม มันแค่ห่วยมากตรงที่เราต้องจบกันแบบนี้\n",
        "Happy you were mine, it sucks that it’s all ending\"\"\".split('\\n'), out_type=str), sep='\\n')"
      ],
      "metadata": {
        "id": "IvDFVbJpNgLv"
      },
      "execution_count": 10,
      "outputs": []
    },
    {
      "cell_type": "markdown",
      "source": [
        "โหลด sentencepiece จาก github"
      ],
      "metadata": {
        "id": "-W0hHjqOgrZR"
      }
    },
    {
      "cell_type": "code",
      "source": [
        "!git clone https://github.com/napatswift/mtr-en2th.git"
      ],
      "metadata": {
        "colab": {
          "base_uri": "https://localhost:8080/"
        },
        "id": "fd7FWkVzgqv3",
        "outputId": "753385e4-ef93-4a3f-a969-08fa990984dc"
      },
      "execution_count": 15,
      "outputs": [
        {
          "output_type": "stream",
          "name": "stdout",
          "text": [
            "Cloning into 'mtr-en2th'...\n",
            "remote: Enumerating objects: 13, done.\u001b[K\n",
            "remote: Counting objects: 100% (13/13), done.\u001b[K\n",
            "remote: Compressing objects: 100% (9/9), done.\u001b[K\n",
            "remote: Total 13 (delta 2), reused 13 (delta 2), pack-reused 0\u001b[K\n",
            "Unpacking objects: 100% (13/13), 281.55 KiB | 1.26 MiB/s, done.\n"
          ]
        }
      ]
    },
    {
      "cell_type": "code",
      "source": [
        "class TokenizerWraperForSP:\n",
        "  def __init__(self, spm):\n",
        "    self.spm = spm\n",
        "    self.vocab_size = spm.vocab_size()\n",
        "    self.pad_id = spm.pad_id()\n",
        "  \n",
        "  def tokenize(self, text_or_list, **kargs):\n",
        "    return self.spm.encode(text_or_list, **kargs)"
      ],
      "metadata": {
        "id": "xryDaP5hhdw9"
      },
      "execution_count": 16,
      "outputs": []
    },
    {
      "cell_type": "code",
      "source": [
        "tokenizer = TokenizerWraperForSP(\n",
        "    spm=spm.SentencePieceProcessor(model_file='mtr-en2th/spmodel/m48.model')\n",
        ")"
      ],
      "metadata": {
        "id": "fKTPZIjCh94u"
      },
      "execution_count": 19,
      "outputs": []
    },
    {
      "cell_type": "markdown",
      "source": [
        "# Dataset"
      ],
      "metadata": {
        "id": "LSkXbQ8edpK-"
      }
    },
    {
      "cell_type": "markdown",
      "source": [
        "เลือกแถวที่จับคู่แล้ว `dataset_df['Matched?'] == 'TRUE'` และ ไม่ใช่แถวที่เป็นชื่อเพลง `dataset_df.Thai != '<song title>'`"
      ],
      "metadata": {
        "id": "M5SoF48UePx-"
      }
    },
    {
      "cell_type": "code",
      "source": [
        "import tensorflow as tf\n",
        "import numpy as np"
      ],
      "metadata": {
        "id": "4IQAZFrQi1C9"
      },
      "execution_count": 32,
      "outputs": []
    },
    {
      "cell_type": "code",
      "source": [
        "en_th_ds = dataset_df[(dataset_df['Matched?'] == 'TRUE') & (dataset_df.Thai != '<song title>')][['English','Thai',]]"
      ],
      "metadata": {
        "id": "JqlwySABOE_G"
      },
      "execution_count": 20,
      "outputs": []
    },
    {
      "cell_type": "code",
      "source": [
        "en_th_ds.loc[:, 'en2id'] = tokenizer.tokenize(en_th_ds.English.astype(str).to_list(), add_bos=True, add_eos=True,)\n",
        "en_th_ds.loc[:, 'th2id'] = tokenizer.tokenize(en_th_ds.Thai.astype(str).to_list(), add_bos=True, add_eos=True,)"
      ],
      "metadata": {
        "id": "H7ApcwrsRmRG"
      },
      "execution_count": 21,
      "outputs": []
    },
    {
      "cell_type": "code",
      "source": [
        "seq_max_len = en_th_ds.en2id.apply(len).max()"
      ],
      "metadata": {
        "id": "6uwIgfuLet8I"
      },
      "execution_count": 22,
      "outputs": []
    },
    {
      "cell_type": "code",
      "source": [
        "sequences = en_th_ds.en2id.apply(lambda seq: seq + [tokenizer.pad_id]*(seq_max_len-len(seq))).to_list()\n",
        "x_train = np.array(sequences)\n",
        "y_train = en_th_ds.th2id.apply(lambda seq: seq + [tokenizer.pad_id]*(seq_max_len-len(seq))).to_list()\n",
        "# y_train = np.array([tf.keras.utils.to_categorical(y, num_classes=tokenizer.vocab_size).sum(0) for y in y_train])"
      ],
      "metadata": {
        "id": "M6bii0qce4S5"
      },
      "execution_count": 125,
      "outputs": []
    },
    {
      "cell_type": "markdown",
      "source": [
        "# Embeddings"
      ],
      "metadata": {
        "id": "cAOVAgZWiy1e"
      }
    },
    {
      "cell_type": "code",
      "source": [
        "def gen_data(xs, ys):\n",
        "  for x, y in zip(xs, ys):\n",
        "    for yi in y:\n",
        "      yield x, yi\n",
        "\n",
        "ds = tf.data.Dataset.from_generator(\n",
        "    lambda: gen_data(x_train, y_train),\n",
        "    output_types=(tf.int16, tf.int16))"
      ],
      "metadata": {
        "id": "yooqdaytGbLp"
      },
      "execution_count": 131,
      "outputs": []
    },
    {
      "cell_type": "code",
      "source": [
        "next(iter(ds))"
      ],
      "metadata": {
        "colab": {
          "base_uri": "https://localhost:8080/"
        },
        "id": "zJcTAijwH6oB",
        "outputId": "510fe75d-38d6-47dc-8074-93ee8d78d5ce"
      },
      "execution_count": 132,
      "outputs": [
        {
          "output_type": "execute_result",
          "data": {
            "text/plain": [
              "(<tf.Tensor: shape=(54,), dtype=int16, numpy=\n",
              " array([   1,  471,    7,    6,   37,   11, 2084,    2,    3,    3,    3,\n",
              "           3,    3,    3,    3,    3,    3,    3,    3,    3,    3,    3,\n",
              "           3,    3,    3,    3,    3,    3,    3,    3,    3,    3,    3,\n",
              "           3,    3,    3,    3,    3,    3,    3,    3,    3,    3,    3,\n",
              "           3,    3,    3,    3,    3,    3,    3,    3,    3,    3],\n",
              "       dtype=int16)>, <tf.Tensor: shape=(), dtype=int16, numpy=1>)"
            ]
          },
          "metadata": {},
          "execution_count": 132
        }
      ]
    },
    {
      "cell_type": "code",
      "source": [
        "input = tf.keras.layers.Input((54,))\n",
        "y = tf.keras.layers.Embedding(tokenizer.spm.vocab_size(), 512,)(input)\n",
        "y = tf.keras.layers.Dropout(0.5)(y)\n",
        "y = tf.keras.layers.Flatten()(y)\n",
        "y = tf.keras.layers.Dropout(0.5)(y)\n",
        "y = tf.keras.layers.Dense(1024, 'relu')(y)\n",
        "y = tf.keras.layers.Dropout(0.5)(y)\n",
        "y = tf.keras.layers.Dense(tokenizer.spm.vocab_size(), 'softmax')(y)\n",
        "model = tf.keras.models.Model(inputs=input,outputs=y)"
      ],
      "metadata": {
        "id": "qIL_o-ryi7hQ"
      },
      "execution_count": 105,
      "outputs": []
    },
    {
      "cell_type": "code",
      "source": [
        "model.compile(optimizer='adam',\n",
        "              loss=tf.keras.losses.MeanAbsoluteError(),\n",
        "              metrics=['accuracy'])"
      ],
      "metadata": {
        "id": "CI0SYrcL_xno"
      },
      "execution_count": 114,
      "outputs": []
    },
    {
      "cell_type": "code",
      "source": [
        "model.fit(x_train[:100], y_train[:100],\n",
        "          batch_size=12,\n",
        "          validation_data=(x_train[-100:], y_train[-100:]))"
      ],
      "metadata": {
        "colab": {
          "base_uri": "https://localhost:8080/"
        },
        "id": "RuoP7fYICf2_",
        "outputId": "08abce5b-1fe5-4363-a48c-36dc11ff26fe"
      },
      "execution_count": 115,
      "outputs": [
        {
          "output_type": "stream",
          "name": "stdout",
          "text": [
            "9/9 [==============================] - 7s 648ms/step - loss: 0.0110 - accuracy: 1.0000 - val_loss: 0.0110 - val_accuracy: 1.0000\n"
          ]
        },
        {
          "output_type": "execute_result",
          "data": {
            "text/plain": [
              "<keras.callbacks.History at 0x7f4ffcce2220>"
            ]
          },
          "metadata": {},
          "execution_count": 115
        }
      ]
    },
    {
      "cell_type": "code",
      "source": [
        "model.predict(x_train[:1])"
      ],
      "metadata": {
        "colab": {
          "base_uri": "https://localhost:8080/"
        },
        "id": "OjP4007ODbDO",
        "outputId": "7c08bfe2-af25-47e7-faef-13c335a04429"
      },
      "execution_count": 116,
      "outputs": [
        {
          "output_type": "stream",
          "name": "stdout",
          "text": [
            "1/1 [==============================] - 0s 80ms/step\n"
          ]
        },
        {
          "output_type": "execute_result",
          "data": {
            "text/plain": [
              "array([[1.1019687e-32, 2.9411009e-17, 1.5045997e-16, ..., 6.4621457e-33,\n",
              "        5.1085639e-34, 1.0616384e-32]], dtype=float32)"
            ]
          },
          "metadata": {},
          "execution_count": 116
        }
      ]
    },
    {
      "cell_type": "code",
      "source": [],
      "metadata": {
        "id": "tziDdXCjFlM8"
      },
      "execution_count": null,
      "outputs": []
    }
  ]
}